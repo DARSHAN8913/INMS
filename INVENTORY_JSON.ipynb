{
 "cells": [
  {
   "cell_type": "code",
   "execution_count": 7,
   "metadata": {},
   "outputs": [],
   "source": [
    "# import json\n",
    "# # rec={1001:{\"name\":'5 star    ',\"price\":10,\"qnty\":200},\n",
    "# #      1002:{\"name\":\"milky bar \",\"price\":20,\"qnty\":100},\n",
    "# #      1003:{\"name\":'candy     ',\"price\":2,\"qnty\":1000},\n",
    "# #      1004:{\"name\":'choco ckae',\"price\":550,\"qnty\":8},\n",
    "# #      1005:{\"name\":'blue cake ',\"price\":650,\"qnty\":5}\n",
    "# #     }\n",
    "# fh=open(\"INV.json\",\"w\")\n",
    "# fh.write(json.dumps(rec))\n",
    "# fh.close()"
   ]
  },
  {
   "cell_type": "code",
   "execution_count": 21,
   "metadata": {},
   "outputs": [
    {
     "name": "stdout",
     "output_type": "stream",
     "text": [
      "------------------------------------------------\n",
      "-----------Menu------------\n",
      "1001|5 star    |10|88\n",
      "1002|milky bar |20|100\n",
      "1003|candy     |2|1000\n",
      "1004|choco ckae|550|200\n",
      "1005|blue cake |650|20\n",
      "---------------------------\n",
      "sry we have:  88 pieces\n",
      "would you like to buy them?\n",
      "Prod id        : 1001\n",
      "Name           : 5 star    \n",
      "Price          : 10\n",
      "Quantity       : 88\n",
      "----------------------------\n",
      "Bill Amt       : 880\n"
     ]
    }
   ],
   "source": [
    "import json,time\n",
    "fh=open(\"INV.json\",'r')\n",
    "js=fh.read()\n",
    "rec=json.loads(js)\n",
    "fh.close()\n",
    "\n",
    "\n",
    "print(\"------------------------------------------------\")\n",
    "print(\"-----------Menu------------\")\n",
    "for key in rec.keys():\n",
    "    print(key,rec[key]['name'],rec[key]['price'],rec[key]['qnty'],sep=\"|\")\n",
    "print(\"---------------------------\")\n",
    "ui_pid=input(\"ENtr prod id: \")\n",
    "ui_qn=input(\"Entr qntity:  \")\n",
    "ui_nm=input(\"entr the name: \")\n",
    "ui_phone=input(\"enter phone number: \")\n",
    "\n",
    "if(int(ui_qn)<=int(rec[ui_pid][\"qnty\"])):\n",
    "    print(\"Prod id        :\",ui_pid)\n",
    "    print(\"Name           :\",rec[ui_pid][\"name\"])\n",
    "    print(\"Price          :\",rec[ui_pid][\"price\"])\n",
    "    print(\"Quantity       :\",ui_qn)\n",
    "    print(\"----------------------------\")\n",
    "    billamt=int(ui_qn)*int(rec[ui_pid][\"price\"])\n",
    "    print(\"Bill Amt       :\",billamt)\n",
    "    rec[ui_pid][\"qnty\"]=int(rec[ui_pid][\"qnty\"])-int(ui_qn)\n",
    "    fh=open(\"sales.txt\",'a')\n",
    "    sales_det=\",\".join([ui_nm,ui_phone,ui_pid,rec[ui_pid][\"name\"],str(rec[ui_pid][\"price\"]),ui_qn,str(billamt)])\n",
    "    fh.write(sales_det+'\\n')\n",
    "    fh.close()\n",
    "    \n",
    "else:\n",
    "    print(\"sry we have: \",rec[ui_pid][\"qnty\"],\"pieces\")\n",
    "    print(\"would you like to buy them?\")\n",
    "    ch=input(\"reply Y/N: \")\n",
    "    if ch.lower()=='y':\n",
    "        print(\"Prod id        :\",ui_pid)\n",
    "        print(\"Name           :\",rec[ui_pid][\"name\"])\n",
    "        print(\"Price          :\",rec[ui_pid][\"price\"])\n",
    "        print(\"Quantity       :\",rec[ui_pid][\"qnty\"])\n",
    "        print(\"----------------------------\")\n",
    "        billamt=int(rec[ui_pid][\"qnty\"])*int(rec[ui_pid][\"price\"])\n",
    "        print(\"Bill Amt       :\",billamt)\n",
    "        rec[ui_pid][\"qnty\"]=0\n",
    "        fh=open(\"sales.txt\",'a')\n",
    "        sales_det=\",\".join([ui_nm,ui_phone,ui_pid,rec[ui_pid][\"name\"],str(rec[ui_pid][\"price\"]),str(rec[ui_pid][\"qnty\"]),str(billamt)])\n",
    "        fh.write(sales_det+'\\n')\n",
    "        fh.close()\n",
    "    else:\n",
    "        print(\"Thanks!!\")\n",
    "\n",
    "\n",
    "js=json.dumps(rec)\n",
    "fh=open(\"INV.json\",'w')\n",
    "fh.write(js)\n",
    "fh.close()"
   ]
  },
  {
   "cell_type": "code",
   "execution_count": null,
   "metadata": {},
   "outputs": [],
   "source": []
  }
 ],
 "metadata": {
  "kernelspec": {
   "display_name": "Python 3",
   "language": "python",
   "name": "python3"
  },
  "language_info": {
   "codemirror_mode": {
    "name": "ipython",
    "version": 3
   },
   "file_extension": ".py",
   "mimetype": "text/x-python",
   "name": "python",
   "nbconvert_exporter": "python",
   "pygments_lexer": "ipython3",
   "version": "3.9.13"
  },
  "orig_nbformat": 4
 },
 "nbformat": 4,
 "nbformat_minor": 2
}
