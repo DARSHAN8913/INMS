{
 "cells": [
  {
   "cell_type": "code",
   "execution_count": 9,
   "metadata": {},
   "outputs": [
    {
     "name": "stdout",
     "output_type": "stream",
     "text": [
      "1001|5 star    |10|200\n",
      "1002|milky bar |20|100\n",
      "1003|candy     |2|1000\n",
      "1004|choco ckae|550|8\n",
      "1005|blue cake |650|5\n"
     ]
    }
   ],
   "source": [
    "rec={1001:{\"name\":'5 star    ',\"price\":10,\"qnty\":200},\n",
    "     1002:{\"name\":\"milky bar \",\"price\":20,\"qnty\":100},\n",
    "     1003:{\"name\":'candy     ',\"price\":2,\"qnty\":1000},\n",
    "     1004:{\"name\":'choco ckae',\"price\":550,\"qnty\":8},\n",
    "     1005:{\"name\":'blue cake ',\"price\":650,\"qnty\":5}\n",
    "    }\n",
    "\n",
    "print(\"------------------------------------------------\")\n",
    "ui_pr=int(input(\"ENtr prod id: \"))\n",
    "ui_qn=int(input(\"Entr qntity:  \"))\n",
    "print(\"-----------Menu------------\")\n",
    "for key in rec.keys():\n",
    "    print(key,rec[key]['name'],rec[key]['price'],rec[key]['qnty'],sep=\"|\")\n",
    "    \n"
   ]
  },
  {
   "cell_type": "code",
   "execution_count": null,
   "metadata": {},
   "outputs": [],
   "source": []
  }
 ],
 "metadata": {
  "kernelspec": {
   "display_name": "Python 3",
   "language": "python",
   "name": "python3"
  },
  "language_info": {
   "codemirror_mode": {
    "name": "ipython",
    "version": 3
   },
   "file_extension": ".py",
   "mimetype": "text/x-python",
   "name": "python",
   "nbconvert_exporter": "python",
   "pygments_lexer": "ipython3",
   "version": "3.9.13"
  },
  "orig_nbformat": 4
 },
 "nbformat": 4,
 "nbformat_minor": 2
}
