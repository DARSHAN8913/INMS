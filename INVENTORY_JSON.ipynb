{
 "cells": [
  {
   "cell_type": "code",
   "execution_count": 7,
   "metadata": {},
   "outputs": [],
   "source": [
    "# import json\n",
    "# # rec={1001:{\"name\":'5 star    ',\"price\":10,\"qnty\":200},\n",
    "# #      1002:{\"name\":\"milky bar \",\"price\":20,\"qnty\":100},\n",
    "# #      1003:{\"name\":'candy     ',\"price\":2,\"qnty\":1000},\n",
    "# #      1004:{\"name\":'choco ckae',\"price\":550,\"qnty\":8},\n",
    "# #      1005:{\"name\":'blue cake ',\"price\":650,\"qnty\":5}\n",
    "# #     }\n",
    "# fh=open(\"INV.json\",\"w\")\n",
    "# fh.write(json.dumps(rec))\n",
    "# fh.close()"
   ]
  },
  {
   "cell_type": "code",
   "execution_count": 15,
   "metadata": {},
   "outputs": [
    {
     "name": "stdout",
     "output_type": "stream",
     "text": [
      "<class 'dict'>\n",
      "1001 1002 1003 1004 1005\n",
      "------------------------------------------------\n",
      "-----------Menu------------\n",
      "1001|5 star    |10|190\n",
      "1002|milky bar |20|100\n",
      "1003|candy     |2|1000\n",
      "1004|choco ckae|550|10\n",
      "1005|blue cake |650|20\n",
      "---------------------------\n",
      "Prod id        : 1001\n",
      "Name           : 5 star    \n",
      "Price          : 10\n",
      "Quantity       : 100\n",
      "----------------------------\n",
      "Bill Amt       : 1000\n"
     ]
    }
   ],
   "source": [
    "import json\n",
    "fh=open(\"INV.json\",'r')\n",
    "js=fh.read()\n",
    "rec=json.loads(js)\n",
    "fh.close()\n",
    "print(type(rec))\n",
    "print(*rec)\n",
    "print(\"------------------------------------------------\")\n",
    "print(\"-----------Menu------------\")\n",
    "for key in rec.keys():\n",
    "    print(key,rec[key]['name'],rec[key]['price'],rec[key]['qnty'],sep=\"|\")\n",
    "print(\"---------------------------\")\n",
    "ui_pid=input(\"ENtr prod id: \")\n",
    "ui_qn=input(\"Entr qntity:  \")\n",
    "print(\"Prod id        :\",ui_pid)\n",
    "print(\"Name           :\",rec[ui_pid][\"name\"])\n",
    "print(\"Price          :\",rec[ui_pid][\"price\"])\n",
    "print(\"Quantity       :\",ui_qn)\n",
    "print(\"----------------------------\")\n",
    "billamt=int(ui_qn)*int(rec[ui_pid][\"price\"])\n",
    "print(\"Bill Amt       :\",billamt)\n",
    "rec[ui_pid][\"qnty\"]=int(rec[ui_pid][\"qnty\"])-int(ui_qn)\n",
    "js=json.dumps(rec)\n",
    "fh=open(\"INV.json\",'w')\n",
    "fh.write(js)\n",
    "fh.close()"
   ]
  },
  {
   "cell_type": "code",
   "execution_count": null,
   "metadata": {},
   "outputs": [],
   "source": []
  }
 ],
 "metadata": {
  "kernelspec": {
   "display_name": "Python 3",
   "language": "python",
   "name": "python3"
  },
  "language_info": {
   "codemirror_mode": {
    "name": "ipython",
    "version": 3
   },
   "file_extension": ".py",
   "mimetype": "text/x-python",
   "name": "python",
   "nbconvert_exporter": "python",
   "pygments_lexer": "ipython3",
   "version": "3.9.13"
  },
  "orig_nbformat": 4
 },
 "nbformat": 4,
 "nbformat_minor": 2
}
