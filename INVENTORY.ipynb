{
 "cells": [
  {
   "cell_type": "markdown",
   "metadata": {
    "colab_type": "text",
    "id": "view-in-github"
   },
   "source": [
    "<a href=\"https://colab.research.google.com/github/DARSHAN8913/INMS/blob/main/INVENTORY.ipynb\" target=\"_parent\"><img src=\"https://colab.research.google.com/assets/colab-badge.svg\" alt=\"Open In Colab\"/></a>"
   ]
  },
  {
   "cell_type": "code",
   "execution_count": null,
   "metadata": {
    "id": "NUq_PmHIR5o7"
   },
   "outputs": [],
   "source": [
    "!git"
   ]
  },
  {
   "cell_type": "code",
   "execution_count": 9,
   "metadata": {
    "id": "RqYZCsd2S-FE"
   },
   "outputs": [],
   "source": [
    "fi=open(\"Inventry.txt\",'w+')\n",
    "fi.close()"
   ]
  },
  {
   "cell_type": "code",
   "execution_count": 13,
   "metadata": {
    "colab": {
     "base_uri": "https://localhost:8080/"
    },
    "id": "zwcG7Kj_TThc",
    "outputId": "3ffdf475-4bf1-43d2-d2d5-4914035f50c4"
   },
   "outputs": [
    {
     "name": "stdin",
     "output_type": "stream",
     "text": [
      "Enter the product id:  1\n",
      "Enter quantity: 2\n"
     ]
    },
    {
     "name": "stdout",
     "output_type": "stream",
     "text": [
      "------------------------------------\n",
      "Product id   :  1\n",
      "Name         :  choco\n",
      "Price        :  10\n",
      "Quantity     :  2\n",
      "------------------------------------\n",
      "Bill Amount  :  20\n"
     ]
    }
   ],
   "source": [
    "# Open the file in read mode\n",
    "with open(\"Inventry.txt\", 'r') as fi:\n",
    "    products = fi.read().strip().split('\\n')\n",
    "\n",
    "updated_prs = []\n",
    "ui_prod_id = int(input(\"Enter the product id: \"))\n",
    "ui_prod_qn = int(input(\"Enter quantity:\"))\n",
    "\n",
    "for product in products:\n",
    "    if product.strip():  # Make sure the line is not empty\n",
    "        pr_details = product.split(',')\n",
    "\n",
    "        if int(pr_details[0]) == ui_prod_id:\n",
    "            if int(pr_details[3]) >= ui_prod_qn:  # Check if enough quantity is available\n",
    "                print(\"------------------------------------\")\n",
    "                print(\"Product id   : \", ui_prod_id)\n",
    "                print(\"Name         : \", pr_details[1])\n",
    "                print(\"Price        : \", pr_details[2])\n",
    "                print(\"Quantity     : \", ui_prod_qn)\n",
    "                print(\"------------------------------------\")\n",
    "                print(\"Bill Amount  : \", ui_prod_qn * int(pr_details[2]))\n",
    "                pr_details[3] = str(int(pr_details[3]) - ui_prod_qn)\n",
    "            else:\n",
    "                print(\"Not enough quantity available.\")\n",
    "        updated_prs.append(','.join(pr_details))\n",
    "\n",
    "# Write the updated product list back to the file\n",
    "with open(\"Inventry.txt\", 'w') as fi:\n",
    "    fi.write('\\n'.join(updated_prs))\n"
   ]
  },
  {
   "cell_type": "code",
   "execution_count": null,
   "metadata": {
    "id": "z8oz6-APVA_H"
   },
   "outputs": [],
   "source": []
  }
 ],
 "metadata": {
  "colab": {
   "authorship_tag": "ABX9TyPecTAXINVWGYbKy/9/r9Sw",
   "include_colab_link": true,
   "provenance": []
  },
  "kernelspec": {
   "display_name": "Python 3 (ipykernel)",
   "language": "python",
   "name": "python3"
  },
  "language_info": {
   "codemirror_mode": {
    "name": "ipython",
    "version": 3
   },
   "file_extension": ".py",
   "mimetype": "text/x-python",
   "name": "python",
   "nbconvert_exporter": "python",
   "pygments_lexer": "ipython3",
   "version": "3.11.7"
  }
 },
 "nbformat": 4,
 "nbformat_minor": 4
}
