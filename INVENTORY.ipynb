{
  "nbformat": 4,
  "nbformat_minor": 0,
  "metadata": {
    "colab": {
      "provenance": [],
      "authorship_tag": "ABX9TyPecTAXINVWGYbKy/9/r9Sw",
      "include_colab_link": true
    },
    "kernelspec": {
      "name": "python3",
      "display_name": "Python 3"
    },
    "language_info": {
      "name": "python"
    }
  },
  "cells": [
    {
      "cell_type": "markdown",
      "metadata": {
        "id": "view-in-github",
        "colab_type": "text"
      },
      "source": [
        "<a href=\"https://colab.research.google.com/github/DARSHAN8913/INMS/blob/main/INVENTORY.ipynb\" target=\"_parent\"><img src=\"https://colab.research.google.com/assets/colab-badge.svg\" alt=\"Open In Colab\"/></a>"
      ]
    },
    {
      "cell_type": "code",
      "source": [
        "!git"
      ],
      "metadata": {
        "id": "NUq_PmHIR5o7"
      },
      "execution_count": null,
      "outputs": []
    },
    {
      "cell_type": "code",
      "source": [
        "fi=open(\"Inventry.txt\",'w+')\n",
        "fi.close()"
      ],
      "metadata": {
        "id": "RqYZCsd2S-FE"
      },
      "execution_count": 9,
      "outputs": []
    },
    {
      "cell_type": "code",
      "source": [
        "#Product ID\n",
        "# Name\n",
        "# Price\n",
        "# Quantity\n",
        "fi=open(\"Inventry.txt\",'r')\n",
        "products=fi.read().split('\\n')\n",
        "uid_prodid=int(input(\"enter the product id: \"))\n",
        "for product in products:\n",
        "  if int(product.split(',')[0])==uid_prodid:\n",
        "    print(\"yes\")\n",
        "fi.close()"
      ],
      "metadata": {
        "id": "zwcG7Kj_TThc",
        "outputId": "3ffdf475-4bf1-43d2-d2d5-4914035f50c4",
        "colab": {
          "base_uri": "https://localhost:8080/"
        }
      },
      "execution_count": 13,
      "outputs": [
        {
          "output_type": "stream",
          "name": "stdout",
          "text": [
            "enter the product id: 1\n",
            "yes\n"
          ]
        }
      ]
    },
    {
      "cell_type": "code",
      "source": [],
      "metadata": {
        "id": "z8oz6-APVA_H"
      },
      "execution_count": null,
      "outputs": []
    }
  ]
}